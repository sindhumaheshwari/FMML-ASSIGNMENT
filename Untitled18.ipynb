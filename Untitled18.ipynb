{
  "nbformat": 4,
  "nbformat_minor": 0,
  "metadata": {
    "colab": {
      "provenance": [],
      "authorship_tag": "ABX9TyOG/cuYmTtD4RG2UeJAxHfG",
      "include_colab_link": true
    },
    "kernelspec": {
      "name": "python3",
      "display_name": "Python 3"
    },
    "language_info": {
      "name": "python"
    }
  },
  "cells": [
    {
      "cell_type": "markdown",
      "metadata": {
        "id": "view-in-github",
        "colab_type": "text"
      },
      "source": [
        "<a href=\"https://colab.research.google.com/github/sindhumaheshwari/FMML-ASSIGNMENT/blob/main/Untitled18.ipynb\" target=\"_parent\"><img src=\"https://colab.research.google.com/assets/colab-badge.svg\" alt=\"Open In Colab\"/></a>"
      ]
    },
    {
      "cell_type": "markdown",
      "source": [
        "# **Introduction** **to** **lists** **as** **a** **data** **structure**."
      ],
      "metadata": {
        "id": "fFc8x1sLUtFR"
      }
    },
    {
      "cell_type": "markdown",
      "source": [
        "# List:\n",
        " List is a data structure that stores elements in an ordered and sequential manner. A list can store repetitive elements which means a single element can occur more than once in a list."
      ],
      "metadata": {
        "id": "i-dodC1nVMPF"
      }
    },
    {
      "cell_type": "markdown",
      "source": [
        "In most programming languages, lists are also known by other names, such as arrays, vectors, or sequences. The terminology and functionality can vary slightly between languages, but the core concept remains the same."
      ],
      "metadata": {
        "id": "CpigsQl6V5KK"
      }
    },
    {
      "cell_type": "markdown",
      "source": [
        "#List Declaration:\n",
        "you can declare a list using square brackets [] and separate the elements with commas."
      ],
      "metadata": {
        "id": "YB5yxld4WUp7"
      }
    },
    {
      "cell_type": "code",
      "source": [
        "my_list = [1, 2, 3, 4, 5]"
      ],
      "metadata": {
        "id": "KWSTc3V9Wj8V"
      },
      "execution_count": 1,
      "outputs": []
    },
    {
      "cell_type": "markdown",
      "source": [
        "in this example, my_list is a list that contains five integer elements."
      ],
      "metadata": {
        "id": "knxUZd30WwFz"
      }
    },
    {
      "cell_type": "markdown",
      "source": [
        "#Accessing List Elements:\n",
        "You can access elements in a list by their index. In most programming languages, lists are zero-indexed, which means the first element has an index of 0, the second element has an index of 1, and so on."
      ],
      "metadata": {
        "id": "bMkghmXZW_OG"
      }
    },
    {
      "cell_type": "code",
      "source": [
        "first_element = my_list[0]  # Access the first element (1)\n",
        "second_element = my_list[1] # Access the second element (2)"
      ],
      "metadata": {
        "id": "KrNw8RaGXR8q"
      },
      "execution_count": 2,
      "outputs": []
    },
    {
      "cell_type": "markdown",
      "source": [
        "#Modifying List Elements:\n",
        "Lists are mutable, which means you can change their contents. You can assign a new value to an element using its index."
      ],
      "metadata": {
        "id": "WtkEmR5fXZBm"
      }
    },
    {
      "cell_type": "code",
      "source": [
        "my_list[2] = 10  # Change the third element to 10"
      ],
      "metadata": {
        "id": "HfGIXUq4XsjA"
      },
      "execution_count": 3,
      "outputs": []
    },
    {
      "cell_type": "markdown",
      "source": [
        "#Adding and Removing Elements:\n",
        "You can add elements to the end of a list using the append() method ."
      ],
      "metadata": {
        "id": "reKgMlxgX3jY"
      }
    },
    {
      "cell_type": "code",
      "source": [
        "my_list.append(6)  # Add 6 to the end of the list"
      ],
      "metadata": {
        "id": "GJQjB9PlYDTW"
      },
      "execution_count": 5,
      "outputs": []
    },
    {
      "cell_type": "markdown",
      "source": [
        "To remove elements, you can use methods like pop() or remove(). pop() removes and returns the last element by default:"
      ],
      "metadata": {
        "id": "WOygFPv8ZI0H"
      }
    },
    {
      "cell_type": "code",
      "source": [
        "popped_element = my_list.pop()  # Removes the last element (6) and assigns it to popped_element"
      ],
      "metadata": {
        "id": "Xw7YbgkhZJ18"
      },
      "execution_count": 7,
      "outputs": []
    },
    {
      "cell_type": "markdown",
      "source": [
        "#List Length:\n",
        "You can find the length of a list using the len() function:"
      ],
      "metadata": {
        "id": "fMyP3ETFZPaC"
      }
    },
    {
      "cell_type": "code",
      "source": [
        "list_length = len(my_list)  # Returns the length of the list (now 5)"
      ],
      "metadata": {
        "id": "svOgLg7WZiI3"
      },
      "execution_count": 8,
      "outputs": []
    },
    {
      "cell_type": "markdown",
      "source": [
        "#Iterating Over a List:\n",
        "You can loop through the elements of a list using a for loop:\n"
      ],
      "metadata": {
        "id": "N4SSZkZ6Zo_z"
      }
    },
    {
      "cell_type": "code",
      "source": [
        "for item in my_list:\n",
        "    print(item)"
      ],
      "metadata": {
        "colab": {
          "base_uri": "https://localhost:8080/"
        },
        "id": "kwyL9DUTaBgn",
        "outputId": "7583cf07-0d76-484f-cfab-75eebd2716ac"
      },
      "execution_count": 9,
      "outputs": [
        {
          "output_type": "stream",
          "name": "stdout",
          "text": [
            "1\n",
            "2\n",
            "10\n",
            "4\n",
            "5\n"
          ]
        }
      ]
    },
    {
      "cell_type": "markdown",
      "source": [
        "Lists are incredibly versatile and are used in various programming scenarios, from storing data to implementing complex algorithms. They provide a way to organize and manipulate data efficiently, making them a fundamental data structure in computer programming."
      ],
      "metadata": {
        "id": "rH6g1P0baKbl"
      }
    },
    {
      "cell_type": "markdown",
      "source": [
        "# **Creating** **lists** **and** **accessing** **elements**."
      ],
      "metadata": {
        "id": "19y-bLyHargj"
      }
    },
    {
      "cell_type": "markdown",
      "source": [
        "create lists and access their elements quite easily. Here's an example of how to create lists and access their elements:"
      ],
      "metadata": {
        "id": "S3PVnvCqayoH"
      }
    },
    {
      "cell_type": "code",
      "source": [
        "# Creating a list of integers\n",
        "my_list = [1, 2, 3, 4, 5]\n",
        "\n",
        "# Accessing elements by index\n",
        "first_element = my_list[0]  # Accessing the first element (1)\n",
        "second_element = my_list[1]  # Accessing the second element (2)\n",
        "third_element = my_list[2]   # Accessing the third element (3)\n",
        "\n",
        "# Printing the accessed elements\n",
        "print(\"First Element:\", first_element)\n",
        "print(\"Second Element:\", second_element)\n",
        "print(\"Third Element:\", third_element)\n",
        "\n",
        "# Accessing elements from the end using negative indices\n",
        "last_element = my_list[-1]    # Accessing the last element (5)\n",
        "second_last_element = my_list[-2]  # Accessing the second-to-last element (4)\n",
        "\n",
        "# Printing elements accessed using negative indices\n",
        "print(\"Last Element:\", last_element)\n",
        "print(\"Second Last Element:\", second_last_element)\n"
      ],
      "metadata": {
        "colab": {
          "base_uri": "https://localhost:8080/"
        },
        "id": "oasjNXmSa2v2",
        "outputId": "1e8201d3-a293-4a5a-80cc-c95a703c4958"
      },
      "execution_count": 10,
      "outputs": [
        {
          "output_type": "stream",
          "name": "stdout",
          "text": [
            "First Element: 1\n",
            "Second Element: 2\n",
            "Third Element: 3\n",
            "Last Element: 5\n",
            "Second Last Element: 4\n"
          ]
        }
      ]
    },
    {
      "cell_type": "markdown",
      "source": [
        "# **list** **methods**."
      ],
      "metadata": {
        "id": "yKBqjLaVbt8H"
      }
    },
    {
      "cell_type": "markdown",
      "source": [
        " lists come with a variety of built-in methods that allow you to manipulate and perform operations on lists efficiently. Here are some commonly used list methods:"
      ],
      "metadata": {
        "id": "CuNuMHWQb0i_"
      }
    },
    {
      "cell_type": "markdown",
      "source": [
        "#append(item):\n",
        "Adds an element item to the end of the list."
      ],
      "metadata": {
        "id": "dd336aoKb2qq"
      }
    },
    {
      "cell_type": "code",
      "source": [
        "my_list = [1, 2, 3]\n",
        "my_list.append(4)\n",
        "# my_list is now [1, 2, 3, 4]\n"
      ],
      "metadata": {
        "id": "E8fT8HmpcHyq"
      },
      "execution_count": 11,
      "outputs": []
    },
    {
      "cell_type": "markdown",
      "source": [
        "#insert(index, item):\n",
        "Inserts an element item at the specified index in the list.\n",
        "python\n"
      ],
      "metadata": {
        "id": "NaDY4NcucNQz"
      }
    },
    {
      "cell_type": "code",
      "source": [
        "my_list = [1, 2, 3]\n",
        "my_list.insert(1, 4)  # Insert 4 at index 1\n",
        "# my_list is now [1, 4, 2, 3]\n"
      ],
      "metadata": {
        "id": "9iSTCdmNcTn9"
      },
      "execution_count": 12,
      "outputs": []
    },
    {
      "cell_type": "markdown",
      "source": [
        "# pop(index):\n",
        " Removes and returns the element at the specified index. If no index is provided, it removes and returns the last element.\n"
      ],
      "metadata": {
        "id": "2xSoIN4bcaPi"
      }
    },
    {
      "cell_type": "code",
      "source": [
        "my_list = [1, 2, 3, 4]\n",
        "popped_element = my_list.pop(2)  # Remove and return element at index 2\n",
        "# popped_element is 3, my_list is now [1, 2, 4]\n"
      ],
      "metadata": {
        "id": "18_-KPfgcfJq"
      },
      "execution_count": null,
      "outputs": []
    },
    {
      "cell_type": "markdown",
      "source": [
        "# remove(item):\n",
        " Removes the first occurrence of the specified item from the list. If the item is not found, it raises a ValueError.\n"
      ],
      "metadata": {
        "id": "FytOt2Ieci2C"
      }
    },
    {
      "cell_type": "code",
      "source": [
        "my_list = [1, 2, 3, 4, 2]\n",
        "my_list.remove(2)  # Remove the first occurrence of 2\n",
        "# my_list is now [1, 3, 4, 2]\n"
      ],
      "metadata": {
        "id": "RY_PBTtrcqV0"
      },
      "execution_count": null,
      "outputs": []
    },
    {
      "cell_type": "markdown",
      "source": [
        "# index(item):\n",
        "Returns the index of the first occurrence of the specified item in the list. If the item is not found, it raises a ValueError."
      ],
      "metadata": {
        "id": "AC-cMfINctb9"
      }
    },
    {
      "cell_type": "code",
      "source": [
        "my_list = [1, 2, 3, 4, 2]\n",
        "index_of_2 = my_list.index(2)  # Find the index of the first occurrence of 2\n",
        "# index_of_2 is 1\n"
      ],
      "metadata": {
        "id": "qDg-kF2LczAl"
      },
      "execution_count": 13,
      "outputs": []
    },
    {
      "cell_type": "markdown",
      "source": [
        "#count(item):\n",
        "Returns the number of times the specified item appears in the list."
      ],
      "metadata": {
        "id": "PtdpC1CldBBS"
      }
    },
    {
      "cell_type": "code",
      "source": [
        "my_list = [1, 2, 3, 4, 2]\n",
        "count_of_2 = my_list.count(2)  # Count occurrences of 2\n",
        "# count_of_2 is 2\n"
      ],
      "metadata": {
        "id": "JZ5UT590dD6w"
      },
      "execution_count": 14,
      "outputs": []
    },
    {
      "cell_type": "markdown",
      "source": [
        "# sort():\n",
        "Sorts the elements of the list in ascending order in-place."
      ],
      "metadata": {
        "id": "xGIk-T4odKLM"
      }
    },
    {
      "cell_type": "code",
      "source": [
        "my_list = [3, 1, 4, 1, 5, 9, 2]\n",
        "my_list.sort()\n",
        "# my_list is now [1, 1, 2, 3, 4, 5, 9]\n"
      ],
      "metadata": {
        "id": "8IYxlJ6qdM-j"
      },
      "execution_count": 16,
      "outputs": []
    },
    {
      "cell_type": "markdown",
      "source": [
        "#reverse():\n",
        " Reverses the order of elements in the list in-place.\n",
        "\n"
      ],
      "metadata": {
        "id": "Bakzz8ffdPbP"
      }
    },
    {
      "cell_type": "code",
      "source": [
        "my_list = [1, 2, 3, 4]\n",
        "my_list.reverse()\n",
        "# my_list is now [4, 3, 2, 1]\n"
      ],
      "metadata": {
        "id": "ZA5G0-fVdVXm"
      },
      "execution_count": 15,
      "outputs": []
    },
    {
      "cell_type": "markdown",
      "source": [
        "# **List** **slicing**."
      ],
      "metadata": {
        "id": "jg5Iq2DQdrwq"
      }
    },
    {
      "cell_type": "markdown",
      "source": [
        "List slicing is a technique that allows you to extract a portion of a list by specifying a range of indices. It provides a convenient way to work with subsets of a list without modifying the original list. List slicing uses the colon (:) operator to specify the start, end, and step values for the slice. Here's the basic syntax for list slicing.\n",
        "*new_list* = my_list[start:end:step]\n"
      ],
      "metadata": {
        "id": "lQeRA7MkeDDy"
      }
    },
    {
      "cell_type": "markdown",
      "source": [
        "# start:\n",
        "The index at which the slice begins (inclusive).\n",
        "# end:\n",
        " The index at which the slice ends (exclusive).\n",
        "# step:\n",
        " Optional. The step value indicates how the indices should be incremented while creating the slice. The default step is 1."
      ],
      "metadata": {
        "id": "L9RpGT4Lejlh"
      }
    },
    {
      "cell_type": "code",
      "source": [
        "my_list = [0, 1, 2, 3, 4, 5, 6, 7, 8, 9]\n",
        "\n",
        "# Slice from index 2 to 5 (inclusive start, exclusive end)\n",
        "slice1 = my_list[2:6]\n",
        "# slice1 is [2, 3, 4, 5]\n",
        "\n",
        "# Slice from the beginning to index 4 (exclusive end)\n",
        "slice2 = my_list[:5]\n",
        "# slice2 is [0, 1, 2, 3, 4]\n",
        "\n",
        "# Slice from index 5 to the end\n",
        "slice3 = my_list[5:]\n",
        "# slice3 is [5, 6, 7, 8, 9]\n",
        "\n",
        "# Slice with a step of 2 (skip every other element)\n",
        "slice4 = my_list[1:9:2]\n",
        "# slice4 is [1, 3, 5, 7]\n",
        "\n",
        "# Slice in reverse order\n",
        "slice5 = my_list[::-1]\n",
        "# slice5 is [9, 8, 7, 6, 5, 4, 3, 2, 1, 0]\n"
      ],
      "metadata": {
        "id": "cO9ZpkaketQz"
      },
      "execution_count": 18,
      "outputs": []
    },
    {
      "cell_type": "markdown",
      "source": [
        "#some important points\n",
        "Slicing is zero-based, meaning that the first element has an index of 0.\n",
        "The start index is inclusive, while the end index is exclusive. This means that the element at the end index is not included in the slice.\n",
        "Omitting the start or end index in a slice indicates the beginning or end of the list, respectively.\n",
        "Negative indices can be used to count positions from the end of the list. For example, -1 refers to the last element.\n",
        "You can use a negative step value to reverse the order of the slice"
      ],
      "metadata": {
        "id": "2IJKK-JPe-jb"
      }
    }
  ]
}